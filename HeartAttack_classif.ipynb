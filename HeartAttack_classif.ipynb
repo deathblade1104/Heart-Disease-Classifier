{
  "nbformat": 4,
  "nbformat_minor": 0,
  "metadata": {
    "colab": {
      "name": "chd.ipynb",
      "provenance": [],
      "collapsed_sections": []
    },
    "kernelspec": {
      "name": "python3",
      "display_name": "Python 3"
    }
  },
  "cells": [
    {
      "cell_type": "code",
      "metadata": {
        "id": "gOm3MMiUCbdP",
        "colab_type": "code",
        "outputId": "a3f1686a-87d2-49a6-fd36-5e07c28fd4f6",
        "colab": {
          "base_uri": "https://localhost:8080/",
          "height": 817
        }
      },
      "source": [
        "import numpy as np\n",
        "import pandas as pd\n",
        "import matplotlib.pyplot as plt\n",
        "import seaborn as sns\n",
        "\n",
        "#importing dataset\n",
        "dataset=pd.read_csv('Chd.csv')\n",
        "print(dataset.describe())\n",
        "print(dataset.dtypes)\n",
        "print(dataset.isnull().mean())\n"
      ],
      "execution_count": 536,
      "outputs": [
        {
          "output_type": "stream",
          "text": [
            "              male          age  ...      glucose   TenYearCHD\n",
            "count  4238.000000  4238.000000  ...  3850.000000  4238.000000\n",
            "mean      0.429212    49.584946  ...    81.966753     0.151958\n",
            "std       0.495022     8.572160  ...    23.959998     0.359023\n",
            "min       0.000000    32.000000  ...    40.000000     0.000000\n",
            "25%       0.000000    42.000000  ...    71.000000     0.000000\n",
            "50%       0.000000    49.000000  ...    78.000000     0.000000\n",
            "75%       1.000000    56.000000  ...    87.000000     0.000000\n",
            "max       1.000000    70.000000  ...   394.000000     1.000000\n",
            "\n",
            "[8 rows x 16 columns]\n",
            "male                 int64\n",
            "age                  int64\n",
            "education          float64\n",
            "currentSmoker        int64\n",
            "cigsPerDay         float64\n",
            "BPMeds             float64\n",
            "prevalentStroke      int64\n",
            "prevalentHyp         int64\n",
            "diabetes             int64\n",
            "totChol            float64\n",
            "sysBP              float64\n",
            "diaBP              float64\n",
            "BMI                float64\n",
            "heartRate          float64\n",
            "glucose            float64\n",
            "TenYearCHD           int64\n",
            "dtype: object\n",
            "male               0.000000\n",
            "age                0.000000\n",
            "education          0.024776\n",
            "currentSmoker      0.000000\n",
            "cigsPerDay         0.006843\n",
            "BPMeds             0.012506\n",
            "prevalentStroke    0.000000\n",
            "prevalentHyp       0.000000\n",
            "diabetes           0.000000\n",
            "totChol            0.011798\n",
            "sysBP              0.000000\n",
            "diaBP              0.000000\n",
            "BMI                0.004483\n",
            "heartRate          0.000236\n",
            "glucose            0.091553\n",
            "TenYearCHD         0.000000\n",
            "dtype: float64\n"
          ],
          "name": "stdout"
        }
      ]
    },
    {
      "cell_type": "code",
      "metadata": {
        "id": "4yolZpnYONgD",
        "colab_type": "code",
        "outputId": "ceef8e9b-eef4-4744-dd7a-0a3a8634f0c4",
        "colab": {
          "base_uri": "https://localhost:8080/",
          "height": 338
        }
      },
      "source": [
        "dataset.drop(['education'],axis=1,inplace=True)\n",
        "\n",
        "dataset.dropna(axis=0,inplace=True)\n",
        "corr=dataset.corr()\n",
        "ax=sns.heatmap(corr,vmin=-1,vmax=1,cmap=\"coolwarm\",xticklabels=dataset.columns,\n",
        "               yticklabels=dataset.columns)\n"
      ],
      "execution_count": 537,
      "outputs": [
        {
          "output_type": "display_data",
          "data": {
            "image/png": "[encoded data removed]",
            "text/plain": [
              "<Figure size 432x288 with 2 Axes>"
            ]
          },
          "metadata": {
            "tags": [],
            "needs_background": "light"
          }
        }
      ]
    },
    {
      "cell_type": "code",
      "metadata": {
        "id": "DHqb-OkJOzUC",
        "colab_type": "code",
        "outputId": "239ebf8f-d85c-4b09-d62c-63f7f711374a",
        "colab": {
          "base_uri": "https://localhost:8080/",
          "height": 70
        }
      },
      "source": [
        "dataset.TenYearCHD.value_counts()"
      ],
      "execution_count": 538,
      "outputs": [
        {
          "output_type": "execute_result",
          "data": {
            "text/plain": [
              "0    3177\n",
              "1     572\n",
              "Name: TenYearCHD, dtype: int64"
            ]
          },
          "metadata": {
            "tags": []
          },
          "execution_count": 538
        }
      ]
    },
    {
      "cell_type": "code",
      "metadata": {
        "id": "L2acWvt4Paaf",
        "colab_type": "code",
        "colab": {}
      },
      "source": [
        "from sklearn.model_selection import train_test_split\n",
        "x_train,x_test,y_train,y_test=train_test_split(dataset.iloc[:,:-1],\n",
        "dataset.iloc[:,-1:],test_size=0.25,random_state=5)"
      ],
      "execution_count": 0,
      "outputs": []
    },
    {
      "cell_type": "code",
      "metadata": {
        "id": "HklKn6JECgft",
        "colab_type": "code",
        "outputId": "fc256aff-2b34-4eac-a1b6-c0b691e773dd",
        "colab": {
          "base_uri": "https://localhost:8080/",
          "height": 144
        }
      },
      "source": [
        "from imblearn.combine import SMOTETomek\n",
        "# Resample the minority class.\n",
        "sm = SMOTETomek(ratio=\"auto\",random_state=5)\n",
        "# Fit the model to generate the data.\n",
        "ovx_tr, ovy_tr = sm.fit_sample(x_train,y_train)\n"
      ],
      "execution_count": 554,
      "outputs": [
        {
          "output_type": "stream",
          "text": [
            "/usr/local/lib/python3.6/dist-packages/sklearn/utils/validation.py:760: DataConversionWarning: A column-vector y was passed when a 1d array was expected. Please change the shape of y to (n_samples, ), for example using ravel().\n",
            "  y = column_or_1d(y, warn=True)\n",
            "/usr/local/lib/python3.6/dist-packages/sklearn/utils/deprecation.py:87: FutureWarning: Function safe_indexing is deprecated; safe_indexing is deprecated in version 0.22 and will be removed in version 0.24.\n",
            "  warnings.warn(msg, category=FutureWarning)\n",
            "/usr/local/lib/python3.6/dist-packages/sklearn/utils/deprecation.py:87: FutureWarning: Function safe_indexing is deprecated; safe_indexing is deprecated in version 0.22 and will be removed in version 0.24.\n",
            "  warnings.warn(msg, category=FutureWarning)\n"
          ],
          "name": "stderr"
        }
      ]
    },
    {
      "cell_type": "code",
      "metadata": {
        "id": "wH0ufuY3G-Q6",
        "colab_type": "code",
        "outputId": "c9bbb9b4-2583-4c4f-dea4-b9b222f407d9",
        "colab": {
          "base_uri": "https://localhost:8080/",
          "height": 461
        }
      },
      "source": [
        "#feature Selection\n",
        "from sklearn.linear_model import LogisticRegression\n",
        "reg=LogisticRegression(n_jobs=8)\n",
        "from mlxtend.feature_selection import SequentialFeatureSelector as SFS\n",
        "sfs1 = SFS(reg, \n",
        "           k_features=8, \n",
        "           forward=False, \n",
        "           floating=False, \n",
        "           verbose=2,\n",
        "           scoring='f1',\n",
        "           cv=5)\n",
        "\n",
        "sfs1 = sfs1.fit(np.array(ovx_tr), ovy_tr)\n"
      ],
      "execution_count": 583,
      "outputs": [
        {
          "output_type": "stream",
          "text": [
            "[Parallel(n_jobs=1)]: Using backend SequentialBackend with 1 concurrent workers.\n",
            "[Parallel(n_jobs=1)]: Done   1 out of   1 | elapsed:    0.5s remaining:    0.0s\n",
            "[Parallel(n_jobs=1)]: Done  14 out of  14 | elapsed:    7.5s finished\n",
            "\n",
            "[2020-04-30 05:15:57] Features: 13/8 -- score: 0.669576481054664[Parallel(n_jobs=1)]: Using backend SequentialBackend with 1 concurrent workers.\n",
            "[Parallel(n_jobs=1)]: Done   1 out of   1 | elapsed:    0.5s remaining:    0.0s\n",
            "[Parallel(n_jobs=1)]: Done  13 out of  13 | elapsed:    6.9s finished\n",
            "\n",
            "[2020-04-30 05:16:04] Features: 12/8 -- score: 0.6762296354054861[Parallel(n_jobs=1)]: Using backend SequentialBackend with 1 concurrent workers.\n",
            "[Parallel(n_jobs=1)]: Done   1 out of   1 | elapsed:    0.5s remaining:    0.0s\n",
            "[Parallel(n_jobs=1)]: Done  12 out of  12 | elapsed:    5.8s finished\n",
            "\n",
            "[2020-04-30 05:16:09] Features: 11/8 -- score: 0.6855744127924754[Parallel(n_jobs=1)]: Using backend SequentialBackend with 1 concurrent workers.\n",
            "[Parallel(n_jobs=1)]: Done   1 out of   1 | elapsed:    0.5s remaining:    0.0s\n",
            "[Parallel(n_jobs=1)]: Done  11 out of  11 | elapsed:    5.2s finished\n",
            "\n",
            "[2020-04-30 05:16:15] Features: 10/8 -- score: 0.6889520973643724[Parallel(n_jobs=1)]: Using backend SequentialBackend with 1 concurrent workers.\n",
            "[Parallel(n_jobs=1)]: Done   1 out of   1 | elapsed:    0.4s remaining:    0.0s\n",
            "[Parallel(n_jobs=1)]: Done  10 out of  10 | elapsed:    3.8s finished\n",
            "\n",
            "[2020-04-30 05:16:18] Features: 9/8 -- score: 0.6905250000853533[Parallel(n_jobs=1)]: Using backend SequentialBackend with 1 concurrent workers.\n",
            "[Parallel(n_jobs=1)]: Done   1 out of   1 | elapsed:    0.4s remaining:    0.0s\n",
            "[Parallel(n_jobs=1)]: Done   9 out of   9 | elapsed:    3.1s finished\n",
            "\n",
            "[2020-04-30 05:16:22] Features: 8/8 -- score: 0.6917825538400266"
          ],
          "name": "stderr"
        }
      ]
    },
    {
      "cell_type": "code",
      "metadata": {
        "id": "0KVSYTqdU4ZZ",
        "colab_type": "code",
        "outputId": "4c1446fe-d19d-4178-dffd-a1ce8b48b511",
        "colab": {
          "base_uri": "https://localhost:8080/",
          "height": 35
        }
      },
      "source": [
        "\n",
        "selected_feat= list(sfs1.k_feature_idx_)\n",
        "print(selected_feat)\n"
      ],
      "execution_count": 584,
      "outputs": [
        {
          "output_type": "stream",
          "text": [
            "[0, 1, 2, 4, 5, 6, 7, 8]\n"
          ],
          "name": "stdout"
        }
      ]
    },
    {
      "cell_type": "code",
      "metadata": {
        "id": "m9hJfhOhwQkU",
        "colab_type": "code",
        "colab": {}
      },
      "source": [
        "#5. TRAINING MODEL\n",
        "sel_train=ovx_tr[:,[0, 1, 2, 4, 5, 6, 7, 8]]\n",
        "x_test=np.array(x_test)\n",
        "sel_test=x_test[:,[0, 1, 2, 4, 5, 6, 7, 8]]\n",
        "y_train=ovy_tr\n"
      ],
      "execution_count": 0,
      "outputs": []
    },
    {
      "cell_type": "code",
      "metadata": {
        "id": "A6fSXR4-QBZJ",
        "colab_type": "code",
        "colab": {}
      },
      "source": [
        "from sklearn.preprocessing import PolynomialFeatures\n",
        "pr=PolynomialFeatures(degree=1)\n",
        "X_train=pr.fit_transform(sel_train)\n",
        "X_test=pr.fit_transform(sel_test)"
      ],
      "execution_count": 0,
      "outputs": []
    },
    {
      "cell_type": "code",
      "metadata": {
        "id": "BuKbmH52sv_J",
        "colab_type": "code",
        "colab": {}
      },
      "source": [
        "from sklearn.preprocessing import StandardScaler\n",
        "sc_x=StandardScaler()\n",
        "X_train=sc_x.fit_transform(X_train)\n",
        "X_test=sc_x.fit_transform(X_test)\n"
      ],
      "execution_count": 0,
      "outputs": []
    },
    {
      "cell_type": "code",
      "metadata": {
        "id": "5XMk35YtHz0N",
        "colab_type": "code",
        "colab": {
          "base_uri": "https://localhost:8080/",
          "height": 52
        },
        "outputId": "96e7ab09-b2f9-4cc7-f601-9527e652988f"
      },
      "source": [
        "from sklearn.linear_model import LogisticRegression\n",
        "reg=LogisticRegression(C=0.001,penalty='l2',max_iter=4000)\n",
        "reg.fit(X_train,y_train)\n",
        "y_pred=reg.predict(X_test)\n",
        "y_trpr=reg.predict(X_train)\n",
        "\n",
        "from sklearn.metrics import accuracy_score\n",
        "print(\"Train Set Accuracy :\",accuracy_score(y_train, reg.predict(X_train)))\n",
        "print(\"Test Set Accuracy :\",accuracy_score(y_test, y_pred))\n",
        "\n",
        "\n"
      ],
      "execution_count": 607,
      "outputs": [
        {
          "output_type": "stream",
          "text": [
            "Train Set Accuracy : 0.6776736259054111\n",
            "Test Set Accuracy : 0.6119402985074627\n"
          ],
          "name": "stdout"
        }
      ]
    },
    {
      "cell_type": "code",
      "metadata": {
        "id": "kI9uGXUDzsul",
        "colab_type": "code",
        "outputId": "87d3816d-2651-4f66-e557-84cc6a64259e",
        "colab": {
          "base_uri": "https://localhost:8080/",
          "height": 498
        }
      },
      "source": [
        "print(\"_____________TRAIN SET_______________\")\n",
        "from sklearn.metrics import confusion_matrix\n",
        "cm=confusion_matrix(y_train, y_trpr)\n",
        "conf_matrix=pd.DataFrame(data=cm,columns=['Predicted:0','Predicted:1'],index=['Actual:0','Actual:1'])\n",
        "plt.figure(figsize = (8,5))\n",
        "sns.heatmap(conf_matrix, annot=True,fmt='d')\n",
        "from sklearn.metrics import classification_report\n",
        "print(classification_report(y_train,y_trpr))\n"
      ],
      "execution_count": 608,
      "outputs": [
        {
          "output_type": "stream",
          "text": [
            "_____________TRAIN SET_______________\n",
            "              precision    recall  f1-score   support\n",
            "\n",
            "           0       0.68      0.66      0.67      2347\n",
            "           1       0.67      0.69      0.68      2347\n",
            "\n",
            "    accuracy                           0.68      4694\n",
            "   macro avg       0.68      0.68      0.68      4694\n",
            "weighted avg       0.68      0.68      0.68      4694\n",
            "\n"
          ],
          "name": "stdout"
        },
        {
          "output_type": "display_data",
          "data": {
            "image/png": "[encoded data removed]",
            "text/plain": [
              "<Figure size 576x360 with 2 Axes>"
            ]
          },
          "metadata": {
            "tags": [],
            "needs_background": "light"
          }
        }
      ]
    },
    {
      "cell_type": "code",
      "metadata": {
        "id": "fCUZy9TRya41",
        "colab_type": "code",
        "outputId": "ca09bc18-16f7-4e1a-d4e2-6f4d653e7ed8",
        "colab": {
          "base_uri": "https://localhost:8080/",
          "height": 498
        }
      },
      "source": [
        "print(\"_________________TEST SET__________________\")\n",
        "from sklearn.metrics import confusion_matrix\n",
        "cm=confusion_matrix(y_test, y_pred)\n",
        "conf_matrix=pd.DataFrame(data=cm,columns=['Predicted:0','Predicted:1'],index=['Actual:0','Actual:1'])\n",
        "plt.figure(figsize = (8,5))\n",
        "sns.heatmap(conf_matrix, annot=True,fmt='d')\n",
        "from sklearn.metrics import classification_report\n",
        "print(classification_report(y_test,y_pred))"
      ],
      "execution_count": 610,
      "outputs": [
        {
          "output_type": "stream",
          "text": [
            "_________________TEST SET__________________\n",
            "              precision    recall  f1-score   support\n",
            "\n",
            "           0       0.95      0.58      0.72       806\n",
            "           1       0.24      0.80      0.37       132\n",
            "\n",
            "    accuracy                           0.61       938\n",
            "   macro avg       0.59      0.69      0.54       938\n",
            "weighted avg       0.85      0.61      0.67       938\n",
            "\n"
          ],
          "name": "stdout"
        },
        {
          "output_type": "display_data",
          "data": {
            "image/png": "[encoded data removed]",
            "text/plain": [
              "<Figure size 576x360 with 2 Axes>"
            ]
          },
          "metadata": {
            "tags": [],
            "needs_background": "light"
          }
        }
      ]
    }
  ]
}